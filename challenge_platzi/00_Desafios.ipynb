{
 "cells": [
  {
   "cell_type": "markdown",
   "metadata": {},
   "source": [
    "# 01. **Cajas de Futas**\n",
    "Tengo 3 cajas, cada una contiene un tipo de fruta diferente (peras, manzanas y naranjas). El problema es que **todas las cajas tienen las etiquetas de las frutas incorrectas.** ¿Cuántas cajas necesito abrir para saber colocar todas las etiquetas correctamente?"
   ]
  },
  {
   "cell_type": "markdown",
   "metadata": {},
   "source": [
    "## Desarrollo\n",
    "\n",
    "📝 ***El ejercicio nos da la clave al indicar que todas las cajas tienen una etiqueta erronea.***\n",
    "\n",
    "\n",
    "> \"🍐🍎🍊\" --> Representa contenido\n",
    "\n",
    "> \"Texto\"  -->  Representa etiqueta\n",
    "\n",
    "```\n",
    "🍐 --> Peras\n",
    "🍎 --> Manzanas\n",
    "🍊 --> Naranjas\n",
    "```\n",
    "\n",
    "💡 ***Solo sabemos que ninguna etiqueta corresponde al contenido de las cajas***\n",
    "\n",
    "```\n",
    "○ --> Peras\n",
    "○ --> Manzanas\n",
    "○ --> Naranjas\n",
    "```\n",
    "\n",
    "Pensemos que abrimos la caja con la etiqueta \"Peras\" y esta contiene \"🍎\".\n",
    "\n",
    "```\n",
    "🍎--> Peras\n",
    "○ -->  Manzanas\n",
    "○ -->  Naranjas\n",
    "```\n",
    "\n",
    "* Ya sabiamos que la etiqueta \"Naranjas\" no contiene \"🍊\".\n",
    "* Ahora sabemos que la etiqueta \"Peras\" tampoco contiene naranjas.\n",
    "* Conclusion las \"🍊\" estan en la etiqueta \"Manzanas\"\n",
    "\n",
    "Con lo que de momento las cosas van asi:\n",
    "\n",
    "```\n",
    "🍎--> Peras\n",
    "🍊--> Manzanas\n",
    "○ -->  Naranjas\n",
    "```\n",
    "\n",
    "* Solo queda descubrir la fruta que nos falta, es decir \"🍐\"\n",
    "\n",
    "```\n",
    "🍎 --> Peras\n",
    "🍊 -->  Manzanas\n",
    "🍐 -->  Naranjas\n",
    "```\n"
   ]
  },
  {
   "cell_type": "markdown",
   "metadata": {},
   "source": [
    "\n",
    "## Solucion\n",
    "\n",
    "***Respuesta: solo requerimos abrir una caja para colocar las etiquetas correctamente***\n",
    "\n",
    "```\n",
    "🍎 --> Manzanas\n",
    "🍊 --> Naranjas\n",
    "🍐 --> Peras\n",
    "```"
   ]
  },
  {
   "cell_type": "markdown",
   "metadata": {},
   "source": [
    "# 02. **Operación Matemática Oculta**\n",
    "\n",
    "Encuentra la lógica de las siguientes operaciones y números:\n",
    "\n",
    "* 5 + 4 = 19\n",
    "* 8 + 2 = 610\n",
    "* 10 + 8 = 218\n",
    "* 12 + 9 = 321\n",
    "* 18 + 2 = 1620\n",
    "* 21 + 5 = 1626\n"
   ]
  },
  {
   "cell_type": "markdown",
   "metadata": {},
   "source": [
    "## Desarrolo\n",
    "\n",
    "Por pura observación podemos ver que los primeros digitos corresponden a una resta del primer elemento y segundo elemento y este resultado se encuentra concatenado al resultado de la suma de los mismo elementos"
   ]
  },
  {
   "cell_type": "code",
   "execution_count": 19,
   "metadata": {},
   "outputs": [],
   "source": [
    "def op_math (num1,num2):\n",
    "     resta = num1 - num2\n",
    "     suma = num1 + num2\n",
    "     resultado = int(str(resta) + str(suma))\n",
    "     return resultado"
   ]
  },
  {
   "cell_type": "markdown",
   "metadata": {},
   "source": [
    "## Confirmamos nuestra hipotesis"
   ]
  },
  {
   "cell_type": "code",
   "execution_count": 20,
   "metadata": {},
   "outputs": [
    {
     "name": "stdout",
     "output_type": "stream",
     "text": [
      "5 + 4 = 19\n",
      "8 + 2 = 610\n",
      "10 + 8 = 218\n",
      "12 + 9 = 321\n",
      "18 + 2 = 1620\n",
      "21 + 5 = 1626\n"
     ]
    }
   ],
   "source": [
    "print(f'5 + 4 = {op_math(5,4)}')\n",
    "print(f'8 + 2 = {op_math(8,2)}')\n",
    "print(f'10 + 8 = {op_math(10,8)}')\n",
    "print(f'12 + 9 = {op_math(12,9)}')\n",
    "print(f'18 + 2 = {op_math(18,2)}')\n",
    "print(f'21 + 5 = {op_math(21,5)}')"
   ]
  },
  {
   "cell_type": "markdown",
   "metadata": {},
   "source": [
    "# 03. **Carrera de Automóviles**\n",
    "* Tenemos información de que el conductor José ha llegado justo detrás de Pedro, además de que Miguel  llegó en medio de Francisco y José.\n",
    "* ¿Cuál es el orden de llegada de los conductores?"
   ]
  },
  {
   "cell_type": "markdown",
   "metadata": {},
   "source": [
    "## Desarrollo\n",
    "\n",
    "📝Tenemos los siguientes conductores: Jose, Pedro, Miguel y Francisco\n",
    "\n",
    "💡Son 4 posiciones posibles\n",
    "**Tenemos las siguientes verdades**\n",
    "```\n",
    "1. Jose llegó justo detras de Pedro \n",
    "2. Miguel llegó en medio de Francisco y Jose\n",
    "```\n",
    "Si posicionamos los conductores en una hipotetica recta, donde mas a la derecha es el 1er lugar y mas a la izquierda es el ultimo lugar\n",
    "\n",
    "1. Jose, Pedro\n",
    "2. Jose, Miguel, Francisco ❌ **Esta forma contradice la primer verdad ya que Jose va justo detras de Pedro**\n",
    "2. Francisco, Miguel, Jose ✅ **Esta forma puede convivir con la primer verdad**"
   ]
  },
  {
   "cell_type": "markdown",
   "metadata": {},
   "source": [
    "## Solucion\n",
    "\n",
    "1. Jose, Pedro\n",
    "2. Francisco, Miguel, Jose\n",
    "\n",
    "***Resultado:***\n",
    "1. ***Pedro***\n",
    "2. ***Jose*** \n",
    "3. ***Miguel*** \n",
    "4. ***Francisco***"
   ]
  }
 ],
 "metadata": {
  "kernelspec": {
   "display_name": "Pensamiento_Logico",
   "language": "python",
   "name": "python3"
  },
  "language_info": {
   "codemirror_mode": {
    "name": "ipython",
    "version": 3
   },
   "file_extension": ".py",
   "mimetype": "text/x-python",
   "name": "python",
   "nbconvert_exporter": "python",
   "pygments_lexer": "ipython3",
   "version": "3.12.4"
  }
 },
 "nbformat": 4,
 "nbformat_minor": 2
}
