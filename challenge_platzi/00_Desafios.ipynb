{
 "cells": [
  {
   "cell_type": "markdown",
   "metadata": {},
   "source": [
    "# 01. **Cajas de Futas**\n",
    "Tengo 3 cajas, cada una contiene un tipo de fruta diferente (peras, manzanas y naranjas). El problema es que **todas las cajas tienen las etiquetas de las frutas incorrectas.** ¿Cuántas cajas necesito abrir para saber colocar todas las etiquetas correctamente?"
   ]
  },
  {
   "cell_type": "markdown",
   "metadata": {},
   "source": [
    "## Desarrollo\n",
    "\n",
    "📝 ***El ejercicio nos da la clave al indicar que todas las cajas tienen una etiqueta erronea.***\n",
    "\n",
    "\n",
    "> \"🍐🍎🍊\" --> Representa contenido\n",
    "\n",
    "> \"Texto\"  -->  Representa etiqueta\n",
    "\n",
    "```\n",
    "🍐 --> Peras\n",
    "🍎 --> Manzanas\n",
    "🍊 --> Naranjas\n",
    "```\n",
    "\n",
    "💡 ***Solo sabemos que ninguna etiqueta corresponde al contenido de las cajas***\n",
    "\n",
    "```\n",
    "○ --> Peras\n",
    "○ --> Manzanas\n",
    "○ --> Naranjas\n",
    "```\n",
    "\n",
    "Pensemos que abrimos la caja con la etiqueta \"Peras\" y esta contiene \"🍎\".\n",
    "\n",
    "```\n",
    "🍎--> Peras\n",
    "○ -->  Manzanas\n",
    "○ -->  Naranjas\n",
    "```\n",
    "\n",
    "* Ya sabiamos que la etiqueta \"Naranjas\" no contiene \"🍊\".\n",
    "* Ahora sabemos que la etiqueta \"Peras\" tampoco contiene naranjas.\n",
    "* Conclusion las \"🍊\" estan en la etiqueta \"Manzanas\"\n",
    "\n",
    "Con lo que de momento las cosas van asi:\n",
    "\n",
    "```\n",
    "🍎--> Peras\n",
    "🍊--> Manzanas\n",
    "○ -->  Naranjas\n",
    "```\n",
    "\n",
    "* Solo queda descubrir la fruta que nos falta, es decir \"🍐\"\n",
    "\n",
    "```\n",
    "🍎 --> Peras\n",
    "🍊 -->  Manzanas\n",
    "🍐 -->  Naranjas\n",
    "```\n"
   ]
  },
  {
   "cell_type": "markdown",
   "metadata": {},
   "source": [
    "\n",
    "## Solucion\n",
    "\n",
    "***Respuesta: solo requerimos abrir una caja para colocar las etiquetas correctamente***\n",
    "\n",
    "```\n",
    "🍎 --> Manzanas\n",
    "🍊 --> Naranjas\n",
    "🍐 --> Peras\n",
    "```"
   ]
  },
  {
   "cell_type": "markdown",
   "metadata": {},
   "source": [
    "# 02. **Operación Matemática Oculta**\n",
    "\n",
    "Encuentra la lógica de las siguientes operaciones y números:\n",
    "\n",
    "* 5 + 4 = 19\n",
    "* 8 + 2 = 610\n",
    "* 10 + 8 = 218\n",
    "* 12 + 9 = 321\n",
    "* 18 + 2 = 1620\n",
    "* 21 + 5 = 1626\n"
   ]
  },
  {
   "cell_type": "markdown",
   "metadata": {},
   "source": [
    "## Desarrolo\n",
    "\n",
    "Por pura observación podemos ver que los primeros digitos corresponden a una resta del primer elemento y segundo elemento y este resultado se encuentra concatenado al resultado de la suma de los mismo elementos"
   ]
  },
  {
   "cell_type": "code",
   "execution_count": 19,
   "metadata": {},
   "outputs": [],
   "source": [
    "def op_math (num1,num2):\n",
    "     resta = num1 - num2\n",
    "     suma = num1 + num2\n",
    "     resultado = int(str(resta) + str(suma))\n",
    "     return resultado"
   ]
  },
  {
   "cell_type": "markdown",
   "metadata": {},
   "source": [
    "## Solucion\n",
    "Confirmamos nuestra hipotesis"
   ]
  },
  {
   "cell_type": "code",
   "execution_count": 20,
   "metadata": {},
   "outputs": [
    {
     "name": "stdout",
     "output_type": "stream",
     "text": [
      "5 + 4 = 19\n",
      "8 + 2 = 610\n",
      "10 + 8 = 218\n",
      "12 + 9 = 321\n",
      "18 + 2 = 1620\n",
      "21 + 5 = 1626\n"
     ]
    }
   ],
   "source": [
    "print(f'5 + 4 = {op_math(5,4)}')\n",
    "print(f'8 + 2 = {op_math(8,2)}')\n",
    "print(f'10 + 8 = {op_math(10,8)}')\n",
    "print(f'12 + 9 = {op_math(12,9)}')\n",
    "print(f'18 + 2 = {op_math(18,2)}')\n",
    "print(f'21 + 5 = {op_math(21,5)}')"
   ]
  },
  {
   "cell_type": "markdown",
   "metadata": {},
   "source": [
    "# 03. **Carrera de Automóviles**\n",
    "* Tenemos información de que el conductor José ha llegado justo detrás de Pedro, además de que Miguel  llegó en medio de Francisco y José.\n",
    "* ¿Cuál es el orden de llegada de los conductores?"
   ]
  },
  {
   "cell_type": "markdown",
   "metadata": {},
   "source": [
    "## Desarrollo\n",
    "\n",
    "📝Tenemos los siguientes conductores: Jose, Pedro, Miguel y Francisco\n",
    "\n",
    "💡Son 4 posiciones posibles\n",
    "**Tenemos las siguientes verdades**\n",
    "```\n",
    "1. Jose llegó justo detras de Pedro \n",
    "2. Miguel llegó en medio de Francisco y Jose\n",
    "```\n",
    "Si posicionamos los conductores en una hipotetica recta, donde mas a la derecha es el 1er lugar y mas a la izquierda es el ultimo lugar\n",
    "\n",
    "1. Jose, Pedro\n",
    "2. Jose, Miguel, Francisco ❌ **Esta forma contradice la primer verdad ya que Jose va justo detras de Pedro**\n",
    "2. Francisco, Miguel, Jose ✅ **Esta forma puede convivir con la primer verdad**"
   ]
  },
  {
   "cell_type": "markdown",
   "metadata": {},
   "source": [
    "## Solucion\n",
    "\n",
    "1. Jose, Pedro\n",
    "2. Francisco, Miguel, Jose\n",
    "\n",
    "***Resultado:***\n",
    "1. ***Pedro***\n",
    "2. ***Jose*** \n",
    "3. ***Miguel*** \n",
    "4. ***Francisco***"
   ]
  },
  {
   "cell_type": "markdown",
   "metadata": {},
   "source": [
    "# 04. **Identifica la operación**\n",
    "Encuentra la lógica en las siguientes operaciones y números:\n",
    "\n",
    "* 3 = 27\n",
    "* 4 = 36\n",
    "* 5 = 45\n",
    "* 6 = 54\n",
    "* 7 = 63\n",
    "* 8 = 72\n",
    "* 9 = ??"
   ]
  },
  {
   "cell_type": "markdown",
   "metadata": {},
   "source": [
    "## Desarrollo\n",
    "Tratando de buscar una relacion entre cada parte de la igualdad, se puede razonar como \"que operacion debo realizar en el lado izquierdo para obtener el numero del lado derecho\".\n",
    "* En el primer ejemplo al 3 aplicando que operación me da 27, multiplicarlo por 9.\n",
    "* Nos damos cuenta que se confirma para cada caso."
   ]
  },
  {
   "cell_type": "markdown",
   "metadata": {},
   "source": [
    "## Solucion\n",
    "Confirmamos nuestra hipotesis"
   ]
  },
  {
   "cell_type": "code",
   "execution_count": 45,
   "metadata": {},
   "outputs": [
    {
     "name": "stdout",
     "output_type": "stream",
     "text": [
      "3 = 27\n",
      "4 = 36\n",
      "5 = 45\n",
      "6 = 54\n",
      "7 = 63\n",
      "8 = 72\n",
      "9 = 81\n"
     ]
    }
   ],
   "source": [
    "def op_oculta(num):\n",
    "    return num*9\n",
    "\n",
    "for n in range (3,10):\n",
    "    print(f'{n} = {op_oculta(n)}')"
   ]
  },
  {
   "cell_type": "markdown",
   "metadata": {},
   "source": [
    "## Bonus\n",
    "Vamos a tomar como base los números del 3 al 8 para multiplciarlos por un mismo factor desconocido (x) que nos da ciertos resultados.\n",
    "\n",
    "Entonces, dada una función que recibe un array númerico con los resultados debes encontrar el factor multiplicador (x) para obtener ese resultado multiplicando por los números del 3 al 8.\n",
    "\n",
    "* Si si un solo factor multiplicador difiere del resto se regresa false.\n",
    "\n",
    "* En el siguiente ejemplo la función regresaria false porque hay una resultado que tiene como factor multiplicador el 6 en lugar del 9 como el resto.\n",
    "\n",
    "* 3 * x =  27\n",
    "* 4 * x =  36\n",
    "* 5 * x =  45\n",
    "* 6 * x =  54\n",
    "* 7 * 6 =  42 <- 👈\n",
    "* 8 * x =  72\n",
    "\n",
    "Input:\n",
    "```\n",
    "solution([27, 36, 45, 54, 63, 72])\n",
    "solution([27, 36, 45, 54, 42, 72])\n",
    "```\n",
    "Output:\n",
    "```\n",
    "9\n",
    "false\n",
    "```"
   ]
  },
  {
   "cell_type": "code",
   "execution_count": 2,
   "metadata": {},
   "outputs": [
    {
     "name": "stdout",
     "output_type": "stream",
     "text": [
      "9.0\n",
      "False\n"
     ]
    }
   ],
   "source": [
    "# Bonus\n",
    "\n",
    "lista1 = [27,36,45,54,63,72]\n",
    "lista2 = [27,36,45,54,42,72]\n",
    "def solution(lista):\n",
    "    fact_v = list(range(3,9))\n",
    "    result = [lista[i]/fact_v[i] for i in range(0,len(lista))]\n",
    "    if len(set(result)) == 1:\n",
    "        return set(result).pop()\n",
    "    return False\n",
    "\n",
    "print(solution(lista1))\n",
    "print(solution(lista2))\n",
    "        "
   ]
  },
  {
   "cell_type": "markdown",
   "metadata": {},
   "source": [
    "# 05. **Signos Matematicos**\n",
    "Encuentra el resultado de la siguiente operación matemática:\n",
    "\n",
    "4 * 3 + 7 * 5 - 55 ÷ 11 + 9\n"
   ]
  },
  {
   "cell_type": "markdown",
   "metadata": {},
   "source": [
    "## Desarrollo\n",
    "Para resolver este ejercicio solo hay que seguir el orden de la jerarquia de operaciones:\n",
    "1. Signos de agrupacion {}[]()\n",
    "2. Exponentes y raices √ ^\n",
    "3. Multiplicacion y divicion * /\n",
    "4. Sumas y Restas \n"
   ]
  },
  {
   "cell_type": "markdown",
   "metadata": {},
   "source": [
    "## Solucion\n",
    "\n",
    "```\n",
    "4 * 3 + 7 * 5 - 55 ÷ 11 + 9\n",
    "(4*3) + (7*5) - (5) + 9\n",
    " 12   +  35   -  5  + 9\n",
    "= 51\n",
    "```"
   ]
  },
  {
   "cell_type": "code",
   "execution_count": 1,
   "metadata": {},
   "outputs": [
    {
     "name": "stdout",
     "output_type": "stream",
     "text": [
      "51.0\n"
     ]
    }
   ],
   "source": [
    "#Comprobamos el resultado\n",
    "r= 4 * 3 + 7 * 5 - 55 / 11 + 9\n",
    "print(r)"
   ]
  },
  {
   "cell_type": "markdown",
   "metadata": {},
   "source": [
    "# 06. **Operaciones Matematicas**\n",
    "Encuentra la lógica en las siguientes operaciones y números\n",
    "\n",
    "* 3 + 2 = 91\n",
    "* 5 + 4 = 251\n",
    "* 9 + 3 = 366\n",
    "* 8 + 6 = 562"
   ]
  },
  {
   "cell_type": "markdown",
   "metadata": {},
   "source": [
    "## Desarrollo\n",
    "Primeramente hay que buscar una relacion que sigan todas las operaciones, que sea congruente y concuerde con cada una de ellas.\n",
    "> No Existe una forma directa de llegar con la solucion, toca probar e intentar, inclusive pueda que haya mas de una respuesta. En este ejercicio explicare la forma en la que yo llegue al resultado, sin embargo pueden existir metodos mas sencillos o faciles de entender.\n",
    "\n",
    "* Como comentaba tiene algun sentido ***'3 + 2 = 91'*** debe existir alguna forma haciendo operaciones de llegar a esa conclusion.\n",
    "1. Primero, al ver que de vista es muy ambiguo, intente ver algun patron entre los demas elementos primero los primeros sumandos es decir [3,5,9,8] \n",
    "2. Al no encontrar aparente sucesion segui con los segundos sumandos [2,4,3,6]\n",
    "3. Por ultimo de igual forma con los resultados [91,251,366,562]\n",
    "4. Realmente si fuese un ejercicio sencillo al analizar estas partes ya deberiamos haber encontrado algun patron o directamente la solucion.\n",
    "5. Al no encontrar algo significativo, lo que hice fue analizar el todo pero por parejas es decir, que tienen en comun ***'3 + 2 = 91'*** y ***'5 + 4 = 251'***\n",
    "6. Lo primero que identifique es que si al primer elemento le restamos el segundo obtenemos el digito de mas a la derecha, esto al realizarlo con todas la operaciones vemos que se cumple.\n",
    "* 3 - 2 = 1\n",
    "* 5 - 4 = 1\n",
    "* 9 - 3 = 6\n",
    "* 8 - 6 = 2\n",
    "7. Nos queda descubrir los digitos de la izquierda. Lo primero que pense es que el primer elemento estaba elevado al cuadrado, al hacerlo en todas las operaciones, esto solo se cumple para la primera y segunda.\n",
    "8. Luego me di cuenta que si multiplicamos al primer elemento por el segundo mas 1 ya coincidian.\n",
    "* 3 * (2+1) = 9\n",
    "* 5 * (4+1) = 25\n",
    "* 9 * (3+1) = 36\n",
    "* 8 * (6+1) = 56\n",
    "9. Ahora solo quedaba concatenar ambos resultados en el orden correcto y listo.\n",
    "\n"
   ]
  },
  {
   "cell_type": "markdown",
   "metadata": {},
   "source": [
    "## Solucion\n",
    "Confirmamos nuestra hipotesis"
   ]
  },
  {
   "cell_type": "code",
   "execution_count": 17,
   "metadata": {},
   "outputs": [
    {
     "name": "stdout",
     "output_type": "stream",
     "text": [
      "3 + 2 = 91\n",
      "5 + 4 = 251\n",
      "9 + 3 = 366\n",
      "8 + 6 = 562\n"
     ]
    }
   ],
   "source": [
    "# Objetivo\n",
    "'''\n",
    "3 + 2 = 91\n",
    "5 + 4 = 251\n",
    "9 + 3 = 366\n",
    "8 + 6 = 562\n",
    "'''\n",
    "def operacion(num1, num2):\n",
    "    return f'{num1 * (num2 + 1)}{num1 - num2}'\n",
    "'''\n",
    "Cabe destacar que en el ejercicio todas las operaciones el primer elemento es mayor que el segundo, y ya que se modelo solo usando esos datos. \n",
    "Si ponemos el segundo elemento mayor que el primero, la resta dará negativo y al tener el signo '-' en el medio del resultado \n",
    "al intentar hacer la conversion a tipo int dará error\n",
    "'''\n",
    "\n",
    "print(f'3 + 2 = {int(operacion(3,2))}')\n",
    "print(f'5 + 4 = {int(operacion(5,4))}')\n",
    "print(f'9 + 3 = {int(operacion(9,3))}')\n",
    "print(f'8 + 6 = {int(operacion(8,6))}')\n"
   ]
  },
  {
   "cell_type": "markdown",
   "metadata": {},
   "source": [
    "# 07. **Figuras Logicas**\n",
    "![Figuras Logicas](https://static.platzi.com/media/user_upload/figura-7ad4001c-0d8b-4f3d-9759-dd8a3b95a46b.jpg)\n"
   ]
  },
  {
   "cell_type": "markdown",
   "metadata": {},
   "source": [
    "## Desarrollo\n",
    "Encuentra la respuesta faltante en la siguiente secuencia de figuras:\n",
    "\n",
    "* Línea 1:\n",
    "\n",
    "![Linea 1](https://static.platzi.com/media/user_upload/Figuraslogicas_1-6a29a0c4-e6d9-428c-8d6d-7439fd48807f.jpg)\n",
    "\n",
    "* Línea 2:\n",
    "\n",
    "![Linea 2](https://static.platzi.com/media/user_upload/Figuraslogicas_2-fbadddbe-d3be-4da1-936d-df3a06d7e085.jpg)\n",
    "\n",
    "* Línea 3:\n",
    "\n",
    "![Linea 3](https://static.platzi.com/media/user_upload/Figuraslogicas_3-57b77c56-0952-4d26-a78a-59106d7e68fd.jpg)\n",
    "\n",
    "Al observar las imagenes notamos que si el segundo elemento 'restamos' por decirlo de una forma las lineas que se superponen da como resultado la tercer imagen."
   ]
  },
  {
   "cell_type": "markdown",
   "metadata": {},
   "source": [
    "## Solucion\n",
    "![Resultado](imagenes/linea3.jpg)"
   ]
  },
  {
   "cell_type": "markdown",
   "metadata": {},
   "source": [
    "# 08. **Identifica la Operación**\n",
    "\n",
    "Encuentra la lógica en las siguientes operaciones y números:\n",
    "\n",
    "* 3 + 2 = 33\n",
    "* 4 + 8 = 288\n",
    "* 5 + 3 = 3,140\n",
    "* 6 + 3 = 46,674"
   ]
  },
  {
   "cell_type": "markdown",
   "metadata": {},
   "source": [
    "## Desarrollo\n",
    "> He de confesar que me hicieron sacar lapiz y papel... ya me estaba decepcionando.\n",
    "\n",
    "1. Primero al igual que en los anteriores busque alguna secuencia de elemento por elemento y la forma en que crecen.\n",
    "2. Lo primero, podemos ver que el primer elemento va de uno en uno del 3 al 6 y a la derecha del '=' crece de forma muy acelerada.\n",
    "3. Al principio me deje llevar por la inercia de los ejercicios anteriores es decir, concatenando operaciones.\n",
    "4. El truco estaba en el primer elemento que iba de uno a uno y el rapido crecimiento del otro lado de la igualdad.\n",
    "5. Si se eleva el primer elemento a si mismo tenemos ya una gran aproximacion.\n",
    "\n",
    "* 3^3 = 27\n",
    "* 4^4 = 256\n",
    "* 5^5 = 3,125\n",
    "* 6^6 = 46,656\n",
    "\n",
    "6. Ahora hacemos la diferencia que hay entre cada operacion esperando encontrar un pantron.\n",
    "33 - 27 = 6\n",
    "288 - 256 = 32\n",
    "3,140 - 3,125 = 15\n",
    "46,674 - 46,656 = 18\n",
    "\n",
    "7. Ahí esta, ese resultado coincide con la multiplicacion del primer elemento con el segundo."
   ]
  },
  {
   "cell_type": "markdown",
   "metadata": {},
   "source": [
    "## Solucion\n",
    "\n",
    "* La espreción resultante seria la siguiente:\n",
    "\n",
    "___n1 + n2 = (n1^n1) + n1*n2___"
   ]
  },
  {
   "cell_type": "code",
   "execution_count": 24,
   "metadata": {},
   "outputs": [
    {
     "name": "stdout",
     "output_type": "stream",
     "text": [
      "3 + 2 = 33\n",
      "4 + 8 = 288\n",
      "5 + 3 = 3140\n",
      "6 + 3 = 46674\n"
     ]
    }
   ],
   "source": [
    "def ope(n1,n2):\n",
    "    return n1**n1 + n1*n2\n",
    "element1 = list(range(3,7))\n",
    "element2 = [2,8,3,3]\n",
    "for i in range(len(element1)):\n",
    "    print(f'{element1[i]} + {element2[i]} = {ope(element1[i],element2[i])}')"
   ]
  },
  {
   "cell_type": "markdown",
   "metadata": {},
   "source": [
    "# 9. **Secuencia de Dominos**\n",
    "![Dominos](https://static.platzi.com/media/user_upload/Dominos-94671981-69cc-480c-902a-5d580ed984bc.jpg)\n"
   ]
  },
  {
   "cell_type": "markdown",
   "metadata": {},
   "source": [
    "## Desarrollo\n",
    "\n",
    "1. Solo de observar podemos decir que el numero inferior es el superior de la siguiente ficha\n",
    "2. Podemos transformar los dominos a una representacion de fraccion:\n",
    "\n",
    "* --> 4 5 0 1 3\n",
    "*     ➖➖➖➖\n",
    "* --> 5 0 1 3 4\n",
    "\n",
    "3. Ahora es mas facil visualisar el patron, y ya que una ficha depende de la anterior, estos se repiten una y otra vez."
   ]
  },
  {
   "cell_type": "markdown",
   "metadata": {},
   "source": [
    "## Solucion\n",
    "                   ⬇️\n",
    "*  4 5 0 1 3 -->   ***4***\n",
    "* ➖➖➖➖➖\n",
    "*  5 0 1 3 4 -->  ***5***"
   ]
  },
  {
   "cell_type": "markdown",
   "metadata": {},
   "source": [
    "## Correccion\n",
    "* Aunque la respuesta anterior es consistente \n",
    "* Parece que en Platzi dan otra respuesta que tambien es congruente.\n",
    "* Pensando que se suman 1 y 2 de forma intercalada tanto arriba como abajo\n",
    "* Esto modifica el resultado a :\n",
    "* 4\n",
    "* ➖\n",
    "* 6"
   ]
  },
  {
   "cell_type": "markdown",
   "metadata": {},
   "source": [
    "# 10. **Une los Puntos**\n",
    "![Tablero](https://static.platzi.com/media/user_upload/unelospuntos-c0f8beaf-7b49-47df-a5eb-422c88b51de5.jpg)"
   ]
  },
  {
   "cell_type": "markdown",
   "metadata": {},
   "source": [
    "## Solucion\n",
    "\n",
    "![Resultado](imagenes/tableror.jpg)"
   ]
  }
 ],
 "metadata": {
  "kernelspec": {
   "display_name": "Pensamiento_Logico",
   "language": "python",
   "name": "python3"
  },
  "language_info": {
   "codemirror_mode": {
    "name": "ipython",
    "version": 3
   },
   "file_extension": ".py",
   "mimetype": "text/x-python",
   "name": "python",
   "nbconvert_exporter": "python",
   "pygments_lexer": "ipython3",
   "version": "3.12.4"
  }
 },
 "nbformat": 4,
 "nbformat_minor": 2
}
