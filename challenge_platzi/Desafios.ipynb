{
 "cells": [
  {
   "cell_type": "markdown",
   "metadata": {},
   "source": [
    "# Cajas de Futas\n",
    "Tengo 3 cajas, cada una contiene un tipo de fruta diferente (peras, manzanas y naranjas). El problema es que **todas las cajas tienen las etiquetas de las frutas incorrectas.** ¿Cuántas cajas necesito abrir para saber colocar todas las etiquetas correctamente?"
   ]
  },
  {
   "cell_type": "markdown",
   "metadata": {},
   "source": [
    "📝 ***El ejercicio nos da la clave al indicar que todas las cajas tienen una etiqueta erronea.***\n",
    "\n",
    "\n",
    "> \"🍐🍎🍊\" Representa contenido\n",
    "\n",
    "> Texto    Representa etiqueta\n",
    "\n",
    "```\n",
    "🍐 --> Peras\n",
    "🍎 --> Manzanas\n",
    "🍊 --> Naranjas\n",
    "```\n",
    "\n",
    "💡 ***Solo sabemos que ninguna etiqueta corresponde al contenido de las cajas***\n",
    "\n",
    "```\n",
    "○ --> Peras\n",
    "○ --> Manzanas\n",
    "○ --> Naranjas\n",
    "```\n",
    "\n",
    "Pensemos que abrimos la caja con la etiqueta \"Peras\" y esta contiene \"🍎\".\n",
    "\n",
    "```\n",
    "🍎--> Peras\n",
    "○ -->  Manzanas\n",
    "○ -->  Naranjas\n",
    "```\n",
    "\n",
    "* Ya sabiamos que la etiqueta \"Naranjas\" no contiene \"🍊\".\n",
    "* Ahora sabemos que la etiqueta \"Peras\" tampoco contiene naranjas.\n",
    "* Conclusion las \"🍊\" estan en la etiqueta \"Manzanas\"\n",
    "\n",
    "Con lo que de momento las cosas van asi:\n",
    "\n",
    "```\n",
    "🍎--> Peras\n",
    "🍊--> Manzanas\n",
    "○ -->  Naranjas\n",
    "```\n",
    "\n",
    "* Solo queda descubrir la fruta que nos falta, es decir \"🍐\"\n",
    "\n",
    "```\n",
    "🍎 --> Peras\n",
    "🍊 -->  Manzanas\n",
    "🍐 -->  Naranjas\n",
    "```"
   ]
  },
  {
   "cell_type": "markdown",
   "metadata": {},
   "source": [
    "### ***Respuesta: solo requerimos abrir una caja para colocar las etiquetas correctamente***\n",
    "```\n",
    "🍎 --> Manzanas\n",
    "🍊 --> Naranjas\n",
    "🍐 --> Peras\n",
    "```"
   ]
  }
 ],
 "metadata": {
  "kernelspec": {
   "display_name": "Pensamiento_Logico",
   "language": "python",
   "name": "python3"
  },
  "language_info": {
   "codemirror_mode": {
    "name": "ipython",
    "version": 3
   },
   "file_extension": ".py",
   "mimetype": "text/x-python",
   "name": "python",
   "nbconvert_exporter": "python",
   "pygments_lexer": "ipython3",
   "version": "3.12.4"
  }
 },
 "nbformat": 4,
 "nbformat_minor": 2
}
